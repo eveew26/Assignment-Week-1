{
 "cells": [
  {
   "cell_type": "markdown",
   "metadata": {},
   "source": [
    "1. tipe machine learning yang digunakan adalah tipe unsuperviced, karena kita mempunyai data input tetapi tidak memiliki data output."
   ]
  },
  {
   "cell_type": "code",
   "execution_count": 1,
   "metadata": {},
   "outputs": [
    {
     "name": "stdout",
     "output_type": "stream",
     "text": [
      "            id                                               name    host_id  \\\n",
      "0        49091                  COZICOMFORT LONG TERM STAY ROOM 2     266763   \n",
      "1        50646                    Pleasant Room along Bukit Timah     227796   \n",
      "2        56334                                        COZICOMFORT     266763   \n",
      "3        71609                Ensuite Room (Room 1 & 2) near EXPO     367042   \n",
      "4        71896                    B&B  Room 1 near Airport & EXPO     367042   \n",
      "...        ...                                                ...        ...   \n",
      "7902  38105126  Loft 2 pax near Haw Par / Pasir Panjang. Free ...  278109833   \n",
      "7903  38108273                         3bedroom luxury at Orchard  238891646   \n",
      "7904  38109336    [ Farrer Park ] New City Fringe CBD Mins to MRT  281448565   \n",
      "7905  38110493          Cheap Master Room in Central of Singapore  243835202   \n",
      "7906  38112762  Amazing room with private bathroom walk to Orc...   28788520   \n",
      "\n",
      "      host_name neighbourhood_group neighbourhood  latitude  longitude  \\\n",
      "0     Francesca        North Region     Woodlands   1.44255  103.79580   \n",
      "1       Sujatha      Central Region   Bukit Timah   1.33235  103.78521   \n",
      "2     Francesca        North Region     Woodlands   1.44246  103.79667   \n",
      "3       Belinda         East Region      Tampines   1.34541  103.95712   \n",
      "4       Belinda         East Region      Tampines   1.34567  103.95963   \n",
      "...         ...                 ...           ...       ...        ...   \n",
      "7902      Belle      Central Region    Queenstown   1.27973  103.78751   \n",
      "7903       Neha      Central Region       Tanglin   1.29269  103.82623   \n",
      "7904      Mindy      Central Region       Kallang   1.31286  103.85996   \n",
      "7905      Huang      Central Region  River Valley   1.29543  103.83801   \n",
      "7906    Terence      Central Region  River Valley   1.29672  103.83325   \n",
      "\n",
      "            room_type  price  minimum_nights  number_of_reviews last_review  \\\n",
      "0        Private room     83             180                  1  2013-10-21   \n",
      "1        Private room     81              90                 18  2014-12-26   \n",
      "2        Private room     69               6                 20  2015-10-01   \n",
      "3        Private room    206               1                 14  2019-08-11   \n",
      "4        Private room     94               1                 22  2019-07-28   \n",
      "...               ...    ...             ...                ...         ...   \n",
      "7902  Entire home/apt    100               3                  0         NaN   \n",
      "7903  Entire home/apt    550               6                  0         NaN   \n",
      "7904     Private room     58              30                  0         NaN   \n",
      "7905     Private room     56              14                  0         NaN   \n",
      "7906     Private room     65              90                  0         NaN   \n",
      "\n",
      "      reviews_per_month  calculated_host_listings_count  availability_365  \n",
      "0                  0.01                               2               365  \n",
      "1                  0.28                               1               365  \n",
      "2                  0.20                               2               365  \n",
      "3                  0.15                               9               353  \n",
      "4                  0.22                               9               355  \n",
      "...                 ...                             ...               ...  \n",
      "7902                NaN                              31                61  \n",
      "7903                NaN                              34               365  \n",
      "7904                NaN                               3               173  \n",
      "7905                NaN                               2                30  \n",
      "7906                NaN                               7               365  \n",
      "\n",
      "[7907 rows x 16 columns]\n"
     ]
    }
   ],
   "source": [
    "# 2\n",
    "import pandas as pd\n",
    "data = pd.read_csv(\"listings.csv\", delimiter=\",\")\n",
    "print(data)"
   ]
  },
  {
   "cell_type": "code",
   "execution_count": 2,
   "metadata": {},
   "outputs": [
    {
     "name": "stdout",
     "output_type": "stream",
     "text": [
      "id                                                   49091\n",
      "host_id                                              23666\n",
      "host_name                         (Email hidden by Airbnb)\n",
      "neighbourhood_group                         Central Region\n",
      "neighbourhood                                   Ang Mo Kio\n",
      "latitude                                           1.24387\n",
      "longitude                                          103.647\n",
      "room_type                                  Entire home/apt\n",
      "price                                                    0\n",
      "minimum_nights                                           1\n",
      "number_of_reviews                                        0\n",
      "reviews_per_month                                     0.01\n",
      "calculated_host_listings_count                           1\n",
      "availability_365                                         0\n",
      "dtype: object\n"
     ]
    }
   ],
   "source": [
    "minValue = data.min()\n",
    "print(minValue)"
   ]
  },
  {
   "cell_type": "code",
   "execution_count": 3,
   "metadata": {},
   "outputs": [
    {
     "name": "stdout",
     "output_type": "stream",
     "text": [
      "id                                   38112762\n",
      "host_id                             288567551\n",
      "host_name                                  ｼﾝ\n",
      "neighbourhood_group               West Region\n",
      "neighbourhood                          Yishun\n",
      "latitude                              1.45459\n",
      "longitude                             103.973\n",
      "room_type                         Shared room\n",
      "price                                   10000\n",
      "minimum_nights                           1000\n",
      "number_of_reviews                         323\n",
      "reviews_per_month                          13\n",
      "calculated_host_listings_count            274\n",
      "availability_365                          365\n",
      "dtype: object\n"
     ]
    }
   ],
   "source": [
    "maxValue = data.max()\n",
    "print(maxValue)"
   ]
  },
  {
   "cell_type": "code",
   "execution_count": 4,
   "metadata": {},
   "outputs": [
    {
     "name": "stdout",
     "output_type": "stream",
     "text": [
      "False\n",
      "5148\n"
     ]
    }
   ],
   "source": [
    "newDataDrop = data.dropna()\n",
    "print(newDataDrop.isna().values.any())\n",
    "print(len(newDataDrop))"
   ]
  },
  {
   "cell_type": "code",
   "execution_count": 5,
   "metadata": {},
   "outputs": [
    {
     "name": "stdout",
     "output_type": "stream",
     "text": [
      "False\n",
      "7907\n"
     ]
    }
   ],
   "source": [
    "newDataFill = data.fillna(\"Suka-suka saya :)\")\n",
    "print(newDataFill.isna().values.any())\n",
    "print(len(newDataFill))"
   ]
  },
  {
   "cell_type": "code",
   "execution_count": null,
   "metadata": {},
   "outputs": [],
   "source": []
  }
 ],
 "metadata": {
  "kernelspec": {
   "display_name": "Python 3",
   "language": "python",
   "name": "python3"
  },
  "language_info": {
   "codemirror_mode": {
    "name": "ipython",
    "version": 3
   },
   "file_extension": ".py",
   "mimetype": "text/x-python",
   "name": "python",
   "nbconvert_exporter": "python",
   "pygments_lexer": "ipython3",
   "version": "3.7.4"
  }
 },
 "nbformat": 4,
 "nbformat_minor": 2
}
